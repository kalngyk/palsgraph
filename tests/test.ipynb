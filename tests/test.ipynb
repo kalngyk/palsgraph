{
 "cells": [
  {
   "cell_type": "code",
   "execution_count": null,
   "metadata": {
    "colab": {
     "base_uri": "https://localhost:8080/"
    },
    "executionInfo": {
     "elapsed": 4990,
     "status": "ok",
     "timestamp": 1613737238535,
     "user": {
      "displayName": "Kal Ng",
      "photoUrl": "https://lh3.googleusercontent.com/a-/AOh14GjU6udN_d2ySo0xUgIyYxa2tGToobvql0Yaw05rTw=s64",
      "userId": "16935662242496658514"
     },
     "user_tz": -480
    },
    "id": "ZpV3gIXwO5X-",
    "outputId": "f98495ad-8306-448a-ecbf-29d276b6e168"
   },
   "outputs": [],
   "source": [
    "!pip3 install palsgraph"
   ]
  },
  {
   "cell_type": "code",
   "execution_count": null,
   "metadata": {
    "executionInfo": {
     "elapsed": 2073,
     "status": "ok",
     "timestamp": 1613737252698,
     "user": {
      "displayName": "Kal Ng",
      "photoUrl": "https://lh3.googleusercontent.com/a-/AOh14GjU6udN_d2ySo0xUgIyYxa2tGToobvql0Yaw05rTw=s64",
      "userId": "16935662242496658514"
     },
     "user_tz": -480
    },
    "id": "w7uAFbUuazAM"
   },
   "outputs": [],
   "source": [
    "%matplotlib inline\n",
    "import networkx as nx\n",
    "import matplotlib.pyplot as plt\n",
    "import numpy as np\n",
    "import itertools\n",
    "from scipy.spatial.distance import squareform\n",
    "import palsgraph"
   ]
  },
  {
   "cell_type": "markdown",
   "metadata": {
    "id": "0Ur5Hs3wxbC7"
   },
   "source": [
    "#### Load distance matrix"
   ]
  },
  {
   "cell_type": "code",
   "execution_count": null,
   "metadata": {
    "colab": {
     "base_uri": "https://localhost:8080/"
    },
    "executionInfo": {
     "elapsed": 1806,
     "status": "ok",
     "timestamp": 1613737373285,
     "user": {
      "displayName": "Kal Ng",
      "photoUrl": "https://lh3.googleusercontent.com/a-/AOh14GjU6udN_d2ySo0xUgIyYxa2tGToobvql0Yaw05rTw=s64",
      "userId": "16935662242496658514"
     },
     "user_tz": -480
    },
    "id": "PjizXr5ZLFJq",
    "outputId": "a0b19a64-a6da-464e-a43a-85de6ead6cfa"
   },
   "outputs": [],
   "source": [
    "simfilename = 'test.tsv'\n",
    "\n",
    "X = np.genfromtxt(simfilename, delimiter='\\t', encoding='utf8', dtype=None)\n",
    "\n",
    "labels = []\n",
    "for label in [x[0] for x in X]:\n",
    "    if label in labels:\n",
    "        continue\n",
    "    labels.append(label)\n",
    "for label in [x[1] for x in X]:\n",
    "    if label in labels:\n",
    "        continue\n",
    "    labels.append(label)\n",
    "\n",
    "dismat = squareform([x[2] for x in X])\n",
    "dismat"
   ]
  },
  {
   "cell_type": "markdown",
   "metadata": {
    "id": "kmO8CVBmxhH2"
   },
   "source": [
    "#### Examine distance distribution"
   ]
  },
  {
   "cell_type": "code",
   "execution_count": null,
   "metadata": {
    "colab": {
     "base_uri": "https://localhost:8080/",
     "height": 485
    },
    "executionInfo": {
     "elapsed": 1750,
     "status": "ok",
     "timestamp": 1613737378725,
     "user": {
      "displayName": "Kal Ng",
      "photoUrl": "https://lh3.googleusercontent.com/a-/AOh14GjU6udN_d2ySo0xUgIyYxa2tGToobvql0Yaw05rTw=s64",
      "userId": "16935662242496658514"
     },
     "user_tz": -480
    },
    "id": "1aqv8hrsCZqa",
    "outputId": "a4c6b55f-9c90-4fc6-a17a-ba52bb31491a"
   },
   "outputs": [],
   "source": [
    "plt.figure(figsize=(8,8))\n",
    "plt.imshow(dismat)\n",
    "plt.show()"
   ]
  },
  {
   "cell_type": "code",
   "execution_count": null,
   "metadata": {
    "colab": {
     "base_uri": "https://localhost:8080/",
     "height": 611
    },
    "executionInfo": {
     "elapsed": 2140,
     "status": "ok",
     "timestamp": 1613737384102,
     "user": {
      "displayName": "Kal Ng",
      "photoUrl": "https://lh3.googleusercontent.com/a-/AOh14GjU6udN_d2ySo0xUgIyYxa2tGToobvql0Yaw05rTw=s64",
      "userId": "16935662242496658514"
     },
     "user_tz": -480
    },
    "id": "bCD-QKTnazCq",
    "outputId": "e7e7912d-458c-488c-fea7-a47716e832de"
   },
   "outputs": [],
   "source": [
    "# Analyze distribution of dissimilarity score\n",
    "\n",
    "dismatflat = dismat.reshape((-1,))\n",
    "dismatflat = dismatflat[dismatflat != 0] # Too many ones result in a bad histogram so we remove them\n",
    "plt.figure(figsize=(15, 5))\n",
    "_ = plt.hist(dismatflat, bins=200)\n",
    "\n",
    "mmax  = np.max(dismatflat)\n",
    "mmin  = np.min(dismatflat)\n",
    "mmean = np.mean(dismatflat)\n",
    "print('avg={0:.2f} min={1:.2f} max={2:.2f}'.format(mmean, mmin, mmax))"
   ]
  },
  {
   "cell_type": "markdown",
   "metadata": {
    "id": "penYffA3xsXW"
   },
   "source": [
    "#### Decides the edges to use for constructing the graph"
   ]
  },
  {
   "cell_type": "code",
   "execution_count": null,
   "metadata": {
    "colab": {
     "base_uri": "https://localhost:8080/"
    },
    "executionInfo": {
     "elapsed": 1256,
     "status": "ok",
     "timestamp": 1613737819943,
     "user": {
      "displayName": "Kal Ng",
      "photoUrl": "https://lh3.googleusercontent.com/a-/AOh14GjU6udN_d2ySo0xUgIyYxa2tGToobvql0Yaw05rTw=s64",
      "userId": "16935662242496658514"
     },
     "user_tz": -480
    },
    "id": "0IxRZGSimMQp",
    "outputId": "f16dd085-05e1-4ad9-92e1-9cbc35203412"
   },
   "outputs": [],
   "source": [
    "# Select a suitable threshold and set dissimilarity scores larger than that threshold to zero\n",
    "\n",
    "threshold = 0.77 # Replace this with your choice of threshold\n",
    "adjmat = dismat.copy()\n",
    "np.fill_diagonal(adjmat, np.min(dismat)) # Set the diagonal elements to a small value so that they won't be zeroed out\n",
    "adjmat = adjmat.reshape((-1,))\n",
    "adjmat[adjmat > threshold] = 0\n",
    "#adjmat[adjmat > 0] = 1\n",
    "print(\"{} out of {} values set to zero\".format(len(adjmat[adjmat == 0]), len(adjmat)))\n",
    "adjmat = adjmat.reshape(dismat.shape)"
   ]
  },
  {
   "cell_type": "markdown",
   "metadata": {
    "id": "hbb9WFxvxnoG"
   },
   "source": [
    "#### Create graph out of adjacency list"
   ]
  },
  {
   "cell_type": "code",
   "execution_count": null,
   "metadata": {
    "colab": {
     "base_uri": "https://localhost:8080/",
     "height": 946
    },
    "executionInfo": {
     "elapsed": 3390,
     "status": "ok",
     "timestamp": 1613737825635,
     "user": {
      "displayName": "Kal Ng",
      "photoUrl": "https://lh3.googleusercontent.com/a-/AOh14GjU6udN_d2ySo0xUgIyYxa2tGToobvql0Yaw05rTw=s64",
      "userId": "16935662242496658514"
     },
     "user_tz": -480
    },
    "id": "4O7JVT6e-gfS",
    "outputId": "0b0d3c33-de3c-46e4-a03e-2eef69873efa"
   },
   "outputs": [],
   "source": [
    "# Construct a networkx graph from the adjacency matrix\n",
    "# (Singleton nodes are excluded from the graph)\n",
    "\n",
    "G = palsgraph.make_graph(adjmat, labels=labels)\n",
    "plt.figure(figsize=(17, 15))\n",
    "pos = nx.spring_layout(G)\n",
    "nx.draw(G, pos, with_labels=True)"
   ]
  },
  {
   "cell_type": "markdown",
   "metadata": {
    "id": "j7habwWU-bUB"
   },
   "source": [
    "#### Community detection using Girvan-Newman"
   ]
  },
  {
   "cell_type": "code",
   "execution_count": null,
   "metadata": {
    "colab": {
     "base_uri": "https://localhost:8080/",
     "height": 1000
    },
    "executionInfo": {
     "elapsed": 8117,
     "status": "ok",
     "timestamp": 1613737838995,
     "user": {
      "displayName": "Kal Ng",
      "photoUrl": "https://lh3.googleusercontent.com/a-/AOh14GjU6udN_d2ySo0xUgIyYxa2tGToobvql0Yaw05rTw=s64",
      "userId": "16935662242496658514"
     },
     "user_tz": -480
    },
    "id": "0bEmIwxs6PBl",
    "outputId": "e343179b-68ee-470d-e64c-e1e055f28e65"
   },
   "outputs": [],
   "source": [
    "from networkx.algorithms.community.centrality import girvan_newman\n",
    "\n",
    "comp = girvan_newman(G)\n",
    "\n",
    "max_shown = 3\n",
    "shown_count = 1\n",
    "possibilities = []\n",
    "for communities in itertools.islice(comp, max_shown):\n",
    "    print(\"Possibility\", shown_count, \": \", end='')\n",
    "\n",
    "    pos = palsgraph.getpos(G, communities)\n",
    "    color_map = palsgraph.gen_colormap(G, communities)\n",
    "\n",
    "    shown_count += 1\n",
    "\n",
    "    plt.figure(figsize=(17, 15))\n",
    "    nx.draw(G, pos=pos, node_color=color_map, edge_color='grey', with_labels=True)\n",
    "    plt.show()"
   ]
  }
 ],
 "metadata": {
  "accelerator": "GPU",
  "colab": {
   "collapsed_sections": [],
   "name": "homework_ans.pals.ipynb",
   "provenance": []
  },
  "kernelspec": {
   "display_name": "Python 3",
   "language": "python",
   "name": "python3"
  },
  "language_info": {
   "codemirror_mode": {
    "name": "ipython",
    "version": 3
   },
   "file_extension": ".py",
   "mimetype": "text/x-python",
   "name": "python",
   "nbconvert_exporter": "python",
   "pygments_lexer": "ipython3",
   "version": "3.7.5"
  }
 },
 "nbformat": 4,
 "nbformat_minor": 1
}
