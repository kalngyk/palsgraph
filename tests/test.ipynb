{
 "cells": [
  {
   "cell_type": "code",
   "execution_count": null,
   "metadata": {
    "executionInfo": {
     "elapsed": 2073,
     "status": "ok",
     "timestamp": 1613737252698,
     "user": {
      "displayName": "Kal Ng",
      "photoUrl": "https://lh3.googleusercontent.com/a-/AOh14GjU6udN_d2ySo0xUgIyYxa2tGToobvql0Yaw05rTw=s64",
      "userId": "16935662242496658514"
     },
     "user_tz": -480
    },
    "id": "w7uAFbUuazAM"
   },
   "outputs": [],
   "source": [
    "%matplotlib inline\n",
    "import networkx as nx\n",
    "import matplotlib.pyplot as plt\n",
    "import numpy as np\n",
    "import itertools\n",
    "from scipy.spatial.distance import squareform\n",
    "import palsgraph"
   ]
  },
  {
   "cell_type": "markdown",
   "metadata": {
    "id": "0Ur5Hs3wxbC7"
   },
   "source": [
    "#### Load distance matrix"
   ]
  },
  {
   "cell_type": "code",
   "execution_count": null,
   "metadata": {
    "colab": {
     "base_uri": "https://localhost:8080/"
    },
    "executionInfo": {
     "elapsed": 1806,
     "status": "ok",
     "timestamp": 1613737373285,
     "user": {
      "displayName": "Kal Ng",
      "photoUrl": "https://lh3.googleusercontent.com/a-/AOh14GjU6udN_d2ySo0xUgIyYxa2tGToobvql0Yaw05rTw=s64",
      "userId": "16935662242496658514"
     },
     "user_tz": -480
    },
    "id": "PjizXr5ZLFJq",
    "outputId": "a0b19a64-a6da-464e-a43a-85de6ead6cfa"
   },
   "outputs": [],
   "source": [
    "simfilename = 'test.tsv'\n",
    "\n",
    "X = np.genfromtxt(simfilename, delimiter='\\t', encoding='utf8', dtype=None)\n",
    "\n",
    "labels = []\n",
    "for label in [x[0] for x in X]:\n",
    "    if label in labels:\n",
    "        continue\n",
    "    labels.append(label)\n",
    "for label in [x[1] for x in X]:\n",
    "    if label in labels:\n",
    "        continue\n",
    "    labels.append(label)\n",
    "\n",
    "dismat = squareform([x[2] for x in X])\n",
    "dismat"
   ]
  },
  {
   "cell_type": "markdown",
   "metadata": {
    "id": "penYffA3xsXW"
   },
   "source": [
    "#### Construct graph"
   ]
  },
  {
   "cell_type": "code",
   "execution_count": null,
   "metadata": {
    "colab": {
     "base_uri": "https://localhost:8080/"
    },
    "executionInfo": {
     "elapsed": 1256,
     "status": "ok",
     "timestamp": 1613737819943,
     "user": {
      "displayName": "Kal Ng",
      "photoUrl": "https://lh3.googleusercontent.com/a-/AOh14GjU6udN_d2ySo0xUgIyYxa2tGToobvql0Yaw05rTw=s64",
      "userId": "16935662242496658514"
     },
     "user_tz": -480
    },
    "id": "0IxRZGSimMQp",
    "outputId": "f16dd085-05e1-4ad9-92e1-9cbc35203412"
   },
   "outputs": [],
   "source": [
    "threshold = 0.77 # Replace this with your choice of threshold\n",
    "\n",
    "# Initialize similarity matrix\n",
    "simmat = dismat.copy().reshape((-1,))\n",
    "\n",
    "# Preparation: remember the indices of the disconnected entries\n",
    "unconnected_indices = (simmat > threshold)\n",
    "\n",
    "# Convert distance to similarity\n",
    "simmat = np.exp(-np.square(simmat))\n",
    "\n",
    "# Set disconnected entries to zero\n",
    "simmat[unconnected_indices] = 0\n",
    "print(\"{} out of {} values set to zero\".format(len(simmat[simmat == 0]), len(simmat)))\n",
    "\n",
    "# Restore shape\n",
    "simmat = simmat.reshape(dismat.shape)\n",
    "\n",
    "# Fill diagonal with the maximum affinity\n",
    "np.fill_diagonal(simmat, np.max(simmat))\n",
    "\n",
    "G = palsgraph.make_graph(simmat, labels=labels)"
   ]
  },
  {
   "cell_type": "markdown",
   "metadata": {
    "id": "j7habwWU-bUB"
   },
   "source": [
    "#### Community detection using Girvan-Newman"
   ]
  },
  {
   "cell_type": "code",
   "execution_count": null,
   "metadata": {
    "colab": {
     "base_uri": "https://localhost:8080/",
     "height": 1000
    },
    "executionInfo": {
     "elapsed": 8117,
     "status": "ok",
     "timestamp": 1613737838995,
     "user": {
      "displayName": "Kal Ng",
      "photoUrl": "https://lh3.googleusercontent.com/a-/AOh14GjU6udN_d2ySo0xUgIyYxa2tGToobvql0Yaw05rTw=s64",
      "userId": "16935662242496658514"
     },
     "user_tz": -480
    },
    "id": "0bEmIwxs6PBl",
    "outputId": "e343179b-68ee-470d-e64c-e1e055f28e65"
   },
   "outputs": [],
   "source": [
    "from networkx.algorithms.community.centrality import girvan_newman\n",
    "\n",
    "comp = girvan_newman(G)\n",
    "\n",
    "max_shown = 3\n",
    "shown_count = 1\n",
    "possibilities = []\n",
    "for communities in itertools.islice(comp, max_shown):\n",
    "    print(\"Possibility\", shown_count, \": \", end='')\n",
    "\n",
    "    pos = palsgraph.getpos(G, communities)\n",
    "    color_map = palsgraph.gen_colormap(G, communities)\n",
    "\n",
    "    shown_count += 1\n",
    "\n",
    "    plt.figure(figsize=(17, 15))\n",
    "    nx.draw(G, pos=pos, node_color=color_map, edge_color='grey', with_labels=True)\n",
    "    plt.show()"
   ]
  },
  {
   "cell_type": "code",
   "execution_count": null,
   "metadata": {},
   "outputs": [],
   "source": []
  }
 ],
 "metadata": {
  "accelerator": "GPU",
  "colab": {
   "collapsed_sections": [],
   "name": "homework_ans.pals.ipynb",
   "provenance": []
  },
  "kernelspec": {
   "display_name": "Python 3",
   "language": "python",
   "name": "python3"
  },
  "language_info": {
   "codemirror_mode": {
    "name": "ipython",
    "version": 3
   },
   "file_extension": ".py",
   "mimetype": "text/x-python",
   "name": "python",
   "nbconvert_exporter": "python",
   "pygments_lexer": "ipython3",
   "version": "3.7.5"
  }
 },
 "nbformat": 4,
 "nbformat_minor": 1
}
